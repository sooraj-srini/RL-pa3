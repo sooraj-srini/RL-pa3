{
 "cells": [
  {
   "cell_type": "markdown",
   "metadata": {},
   "source": [
    "# Introduction"
   ]
  },
  {
   "cell_type": "markdown",
   "metadata": {},
   "source": [
    "## Imports"
   ]
  },
  {
   "cell_type": "code",
   "execution_count": 31,
   "metadata": {},
   "outputs": [],
   "source": [
    "import numpy as np\n",
    "import matplotlib.pyplot as plt\n",
    "import gymnasium as gym\n",
    "import tqdm"
   ]
  },
  {
   "cell_type": "markdown",
   "metadata": {},
   "source": [
    "## Env"
   ]
  },
  {
   "cell_type": "code",
   "execution_count": 4,
   "metadata": {},
   "outputs": [],
   "source": [
    "env = gym.make('Taxi-v3')"
   ]
  },
  {
   "cell_type": "markdown",
   "metadata": {},
   "source": [
    "## Constants"
   ]
  },
  {
   "cell_type": "code",
   "execution_count": 27,
   "metadata": {},
   "outputs": [],
   "source": [
    "num_states = env.observation_space.n\n",
    "num_actions = env.action_space.n  # number of actions plus options\n",
    "\n",
    "GAMMA = 0.99\n",
    "ALPHA = 0.2\n",
    "EPSILON = 0.1\n",
    "\n",
    "actions = [\"south\", \"north\", \"east\", \"west\", \"pickup\", \"dropoff\"]\n",
    "color = [\"red\", \"green\", \"blue\", \"yellow\", \"taxi\"]\n",
    "positions = [(0, 4), (4, 4), (3, 0), (0, 0)]"
   ]
  },
  {
   "cell_type": "markdown",
   "metadata": {},
   "source": [
    "## Options"
   ]
  },
  {
   "cell_type": "code",
   "execution_count": 28,
   "metadata": {},
   "outputs": [],
   "source": [
    "def epsilon_greedy(Q, state):\n",
    "    if np.random.uniform(0, 1) < EPSILON:\n",
    "        return np.random.choice(Q.shape[1])\n",
    "    else:\n",
    "        return np.argmax(Q[state])"
   ]
  },
  {
   "cell_type": "code",
   "execution_count": 29,
   "metadata": {},
   "outputs": [],
   "source": [
    "# Does epsilon greedy on the state actions values until it reaches a colored state.\n",
    "\n",
    "def Red(env, state, Q):\n",
    "    optact = None\n",
    "    optdone = False\n",
    "    x, y, pos, dest = env.unwrapped.decode(state)\n",
    "    if (x, y) == positions[0]:\n",
    "        optdone = True\n",
    "        optact = 4\n",
    "    else:\n",
    "        optact = epsilon_greedy(Q, state)\n",
    "    return optact,optdone\n",
    "def Green(env, state, Q):\n",
    "    optact = None\n",
    "    optdone = False\n",
    "    x, y, pos, dest = env.unwrapped.decode(state)\n",
    "    if (x, y) == positions[1]:\n",
    "        optdone = True\n",
    "        optact = 4\n",
    "    else:\n",
    "        optact = epsilon_greedy(Q, state)\n",
    "    return optact,optdone\n",
    "def Blue(env, state, Q):\n",
    "    optact = None\n",
    "    optdone = False\n",
    "    x, y, pos, dest = env.unwrapped.decode(state)\n",
    "    if (x, y) == positions[2]:\n",
    "        optdone = True\n",
    "        optact = 4\n",
    "    else:\n",
    "        optact = epsilon_greedy(Q, state)\n",
    "    return optact,optdone\n",
    "def Yellow(env, state, Q):\n",
    "    optact = None\n",
    "    optdone = False\n",
    "    x, y, pos, dest = env.unwrapped.decode(state)\n",
    "    if (x, y) == positions[3]:\n",
    "        optdone = True\n",
    "        optact = 4\n",
    "    else:\n",
    "        optact = epsilon_greedy(Q, state)\n",
    "    return optact,optdone\n",
    "\n",
    "        "
   ]
  },
  {
   "cell_type": "markdown",
   "metadata": {},
   "source": [
    "## SMDP"
   ]
  },
  {
   "cell_type": "code",
   "execution_count": null,
   "metadata": {},
   "outputs": [],
   "source": []
  }
 ],
 "metadata": {
  "kernelspec": {
   "display_name": "Python 3",
   "language": "python",
   "name": "python3"
  },
  "language_info": {
   "codemirror_mode": {
    "name": "ipython",
    "version": 3
   },
   "file_extension": ".py",
   "mimetype": "text/x-python",
   "name": "python",
   "nbconvert_exporter": "python",
   "pygments_lexer": "ipython3",
   "version": "3.11.8"
  }
 },
 "nbformat": 4,
 "nbformat_minor": 2
}
